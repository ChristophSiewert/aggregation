{
 "cells": [
  {
   "cell_type": "markdown",
   "metadata": {},
   "source": [
    "# Creating rimed aggregates\n",
    "\n",
    "You can combine the various tools found in the aggregation/riming package yourself, but I have a written a couple of helpful functions that allow you to do this with just a couple of lines of code. Below, we import the `riming_runs` module that contains those functions, and create two things:\n",
    "1. The monomer generator `gen`. This is a \"factory\" that generates aggregates with the specified distribution of properties.\n",
    "1. The aggregate itself, `agg`. This is created by aggregating the monomers together. For now, we have set riming to 0."
   ]
  },
  {
   "cell_type": "code",
   "execution_count": null,
   "metadata": {
    "collapsed": false
   },
   "outputs": [],
   "source": [
    "%matplotlib notebook\n",
    "from aggregation import riming_runs\n",
    "from __future__ import print_function\n",
    "\n",
    "# possible psd values: \"exponential\", \"monodisperse\"\n",
    "# possible mono_type values: \"dendrite\", \"plate\", \"needle\", \"rosette\", \"bullet\", \"spheroid\"\n",
    "gen = riming_runs.gen_monomer(psd=\"exponential\", size=650e-6, min_size=100e-6, max_size=3000e-6, mono_type=\"needle\", rimed=True, grid_res=20e-6)\n",
    "agg = riming_runs.generate_rimed_aggregate(gen, N=10, align=True, riming_lwp=0.0, riming_mode=\"simultaneous\")\n"
   ]
  },
  {
   "cell_type": "markdown",
   "metadata": {},
   "source": [
    "Let's use `matplotlib` to visualize our newly created dendrite aggregate."
   ]
  },
  {
   "cell_type": "code",
   "execution_count": null,
   "metadata": {
    "collapsed": false
   },
   "outputs": [],
   "source": [
    "from matplotlib import pyplot as plt\n",
    "\n",
    "plt.scatter(agg.X[:,0], agg.X[:,2], lw=(0,), s=3)\n",
    "# set plot limits\n",
    "plt.gca().set_xlim((agg.X[:,0].min(), agg.X[:,0].max()))\n",
    "plt.gca().set_ylim((agg.X[:,2].min(), agg.X[:,2].max()))"
   ]
  },
  {
   "cell_type": "markdown",
   "metadata": {},
   "source": [
    "By changing the `riming_lwp` parameter, you can set the amount of riming. Let's make a rimed needle aggregate."
   ]
  },
  {
   "cell_type": "code",
   "execution_count": null,
   "metadata": {
    "collapsed": false
   },
   "outputs": [],
   "source": [
    "%matplotlib notebook\n",
    "from aggregation import riming_runs\n",
    "\n",
    "gen = riming_runs.gen_monomer(psd=\"exponential\", size=650e-6, min_size=100e-6, max_size=3000e-6, mono_type=\"needle\", rimed=True)\n",
    "agg = riming_runs.generate_rimed_aggregate(gen, N=10, align=True, riming_lwp=0.1, riming_mode=\"simultaneous\")\n"
   ]
  },
  {
   "cell_type": "markdown",
   "metadata": {},
   "source": [
    "It can be visualized the same way:"
   ]
  },
  {
   "cell_type": "code",
   "execution_count": null,
   "metadata": {
    "collapsed": false
   },
   "outputs": [],
   "source": [
    "from matplotlib import pyplot as plt\n",
    "\n",
    "plt.scatter(agg.X[:,0], agg.X[:,1], lw=(0,), s=3)\n",
    "# set plot limits\n",
    "plt.gca().set_xlim((agg.X[:,0].min(), agg.X[:,0].max()))\n",
    "plt.gca().set_ylim((agg.X[:,1].min(), agg.X[:,1].max()))"
   ]
  },
  {
   "cell_type": "markdown",
   "metadata": {},
   "source": [
    "Here's how to compute the maximum dimension and the vertical projected area:"
   ]
  },
  {
   "cell_type": "code",
   "execution_count": null,
   "metadata": {
    "collapsed": false
   },
   "outputs": [],
   "source": [
    "from aggregation import mcs\n",
    "\n",
    "# This returns the center and the radius of the minimum covering sphere\n",
    "print(mcs.minimum_covering_sphere(agg.X))\n",
    "# So the maximum dimension is simply:\n",
    "print(mcs.minimum_covering_sphere(agg.X)[1]*2)\n",
    "\n",
    "# This returns the vertically projected area:\n",
    "print(agg.vertical_projected_area())"
   ]
  },
  {
   "cell_type": "markdown",
   "metadata": {},
   "source": [
    "List comprehensions are great for making collections of objects by varying parameters. Here's a set of 5 needle aggregates with 3..8 crystals each:\n"
   ]
  },
  {
   "cell_type": "code",
   "execution_count": null,
   "metadata": {
    "collapsed": false
   },
   "outputs": [],
   "source": [
    "aggs = [riming_runs.generate_rimed_aggregate(gen, N=n, align=True, riming_lwp=0.1, riming_mode=\"simultaneous\") for n in range(3,9)]"
   ]
  },
  {
   "cell_type": "markdown",
   "metadata": {
    "collapsed": true
   },
   "source": [
    "Let's play around with the orientation or aggregates. This example reorients the aggregate to a random orientation and shows the change in the projected area:"
   ]
  },
  {
   "cell_type": "code",
   "execution_count": null,
   "metadata": {
    "collapsed": false
   },
   "outputs": [],
   "source": [
    "from aggregation import rotator\n",
    "\n",
    "agg = riming_runs.generate_rimed_aggregate(gen, N=10, align=True, riming_lwp=0.0, riming_mode=\"simultaneous\")\n",
    "print(\"Area before:\", agg.vertical_projected_area())\n",
    "rot = rotator.UniformRotator()\n",
    "agg.rotate(rot)\n",
    "print(\"Area after:\", agg.vertical_projected_area())"
   ]
  },
  {
   "cell_type": "markdown",
   "metadata": {},
   "source": [
    "To align the aggregate horizontally again:"
   ]
  },
  {
   "cell_type": "code",
   "execution_count": null,
   "metadata": {
    "collapsed": false
   },
   "outputs": [],
   "source": [
    "agg.align()\n",
    "print(\"Area now:\", agg.vertical_projected_area())"
   ]
  },
  {
   "cell_type": "code",
   "execution_count": null,
   "metadata": {
    "collapsed": false
   },
   "outputs": [],
   "source": [
    "mass = agg.X.shape[0] * agg.grid_res**3\n",
    "print(mass)"
   ]
  },
  {
   "cell_type": "markdown",
   "metadata": {
    "collapsed": true
   },
   "source": [
    "This should visualize the aggregate:"
   ]
  },
  {
   "cell_type": "code",
   "execution_count": null,
   "metadata": {
    "collapsed": true
   },
   "outputs": [],
   "source": [
    "agg.visualize()"
   ]
  },
  {
   "cell_type": "markdown",
   "metadata": {},
   "source": [
    "How to write cell coordinates to a text file:"
   ]
  },
  {
   "cell_type": "code",
   "execution_count": null,
   "metadata": {
    "collapsed": true
   },
   "outputs": [],
   "source": [
    "import numpy as np\n",
    "np.savetxt(\"aggregate_test.txt\", agg.X, fmt=\"%.6e\")"
   ]
  },
  {
   "cell_type": "markdown",
   "metadata": {},
   "source": [
    "Or for a regular grid:"
   ]
  },
  {
   "cell_type": "code",
   "execution_count": null,
   "metadata": {
    "collapsed": true
   },
   "outputs": [],
   "source": [
    "np.savetxt(\"aggregate_regular.txt\", agg.grid(), fmt=\"%d\") # in multiples of grid_res"
   ]
  },
  {
   "cell_type": "markdown",
   "metadata": {},
   "source": [
    "Let's make a few aggregates and calculate their properties:"
   ]
  },
  {
   "cell_type": "code",
   "execution_count": null,
   "metadata": {
    "collapsed": false
   },
   "outputs": [],
   "source": [
    "from aggregation import riming_runs\n",
    "import numpy as np\n",
    "gen = riming_runs.gen_monomer(psd=\"exponential\", size=650e-6, min_size=100e-6, max_size=3000e-6, mono_type=\"dendrite\", rimed=True, grid_res=40e-6)\n",
    "aggs = [riming_runs.generate_rimed_aggregate(gen, N=n, align=True, riming_lwp=0.0, riming_mode=\"simultaneous\") for n in range(3,12)]\n",
    "rho_i = 917.6\n",
    "mass = [rho_i*a.X.shape[0]*a.grid_res**3 for a in aggs]\n",
    "rimed_mass = [rho_i*np.count_nonzero(a.ident==-1)*a.grid_res**3 for a in aggs]\n",
    "area = [a.vertical_projected_area() for a in aggs]\n",
    "\n",
    "from aggregation import mcs\n",
    "D_max = [mcs.minimum_covering_sphere(a.X)[1]*2 for a in aggs]"
   ]
  },
  {
   "cell_type": "markdown",
   "metadata": {},
   "source": [
    "Save those values to a file:"
   ]
  },
  {
   "cell_type": "code",
   "execution_count": null,
   "metadata": {
    "collapsed": false
   },
   "outputs": [],
   "source": [
    "np.savetxt(\"aggregate_properties.txt\", np.vstack((mass, rimed_mass, area, D_max)).T, fmt=\"%.6e\")"
   ]
  },
  {
   "cell_type": "markdown",
   "metadata": {
    "collapsed": true
   },
   "source": [
    "Follow the aggregation/riming process and save some values:"
   ]
  },
  {
   "cell_type": "code",
   "execution_count": null,
   "metadata": {
    "collapsed": false
   },
   "outputs": [],
   "source": [
    "from aggregation import riming_runs\n",
    "from aggregation import mcs\n",
    "\n",
    "rho_i = 917.6\n",
    "\n",
    "gen = riming_runs.gen_monomer(psd=\"monodisperse\", size=300e-6, min_size=100e-6, max_size=3000e-6, mono_type=\"dendrite\", rimed=True, grid_res=40e-6)\n",
    "agg_iter = riming_runs.generate_rimed_aggregate(gen, N=10, align=True, riming_lwp=0.5, riming_mode=\"subsequent\", lwp_div=100, iter=True)\n",
    "D_max = []\n",
    "mass = []\n",
    "for aggs in agg_iter:\n",
    "    D_max.append(mcs.minimum_covering_sphere(aggs[0].X)[1]*2)\n",
    "    mass.append(rho_i * aggs[0].X.shape[0] * aggs[0].grid_res**3)\n",
    "    \n",
    "print(D_max[-1])\n",
    "print(mass[-1])\n"
   ]
  },
  {
   "cell_type": "markdown",
   "metadata": {},
   "source": [
    "Make a plot of those:"
   ]
  },
  {
   "cell_type": "code",
   "execution_count": null,
   "metadata": {
    "collapsed": false,
    "scrolled": true
   },
   "outputs": [],
   "source": [
    "%matplotlib notebook\n",
    "from matplotlib import pyplot as plt\n",
    "import numpy as np\n",
    "\n",
    "plt.loglog(D_max, mass, \"-+\")\n",
    "n_fit = len(D_max)-5\n",
    "p = np.polyfit(np.log10(D_max[-n_fit:]), np.log10(mass[-n_fit:]), 1)\n",
    "b = p[0]\n",
    "a = 10**p[1]\n",
    "plt.loglog(D_max[-n_fit:], a*D_max[-n_fit:]**b)\n",
    "plt.title(\"a={:.3}, b={:.3}\".format(a,b))"
   ]
  },
  {
   "cell_type": "markdown",
   "metadata": {
    "collapsed": true
   },
   "source": [
    "Computing the fall velocities:"
   ]
  },
  {
   "cell_type": "code",
   "execution_count": null,
   "metadata": {
    "collapsed": false
   },
   "outputs": [],
   "source": [
    "%matplotlib notebook\n",
    "from matplotlib import pyplot as plt\n",
    "from aggregation import fallvelocity\n",
    "\n",
    "gen = riming_runs.gen_monomer(psd=\"exponential\", size=650e-6, min_size=100e-6, max_size=3000e-6, mono_type=\"dendrite\", rimed=True, grid_res=40e-6)\n",
    "aggs = [riming_runs.generate_rimed_aggregate(gen, N=n, align=True, riming_lwp=0.0, riming_mode=\"simultaneous\") for n in range(3,12)*4]\n",
    "\n",
    "D_max = [mcs.minimum_covering_sphere(a.X)[1]*2 for a in aggs]\n",
    "vel_HW = [fallvelocity.fall_velocity(a, method=\"HW\") for a in aggs]\n",
    "vel_KC = [fallvelocity.fall_velocity(a, method=\"KC\") for a in aggs]\n",
    "\n",
    "plt.plot(D_max, vel_HW, \"b+\")\n",
    "plt.plot(D_max, vel_KC, \"g+\")"
   ]
  },
  {
   "cell_type": "code",
   "execution_count": null,
   "metadata": {
    "collapsed": true
   },
   "outputs": [],
   "source": []
  }
 ],
 "metadata": {
  "anaconda-cloud": {},
  "kernelspec": {
   "display_name": "Python [default]",
   "language": "python",
   "name": "python2"
  },
  "language_info": {
   "codemirror_mode": {
    "name": "ipython",
    "version": 2
   },
   "file_extension": ".py",
   "mimetype": "text/x-python",
   "name": "python",
   "nbconvert_exporter": "python",
   "pygments_lexer": "ipython2",
   "version": "2.7.12"
  }
 },
 "nbformat": 4,
 "nbformat_minor": 1
}
